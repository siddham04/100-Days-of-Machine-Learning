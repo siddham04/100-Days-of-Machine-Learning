{
 "cells": [
  {
   "cell_type": "code",
   "execution_count": 34,
   "id": "e67e5dae",
   "metadata": {},
   "outputs": [
    {
     "name": "stdout",
     "output_type": "stream",
     "text": [
      "1\n",
      "2 3\n",
      "3 4 5 3 2\n",
      "17\n",
      "1   4 3 2 \n",
      "10\n"
     ]
    }
   ],
   "source": [
    "n=int(input())\n",
    "while n >=1:\n",
    "    a=[int(x) for x in input().split()]\n",
    "    for i in range(1,a[0]+1):\n",
    "        b=[int(i) for i in input().split()]\n",
    "        sum=0\n",
    "        for k in b:\n",
    "            sum=sum+k\n",
    "        print(sum)\n",
    "    n=n-1"
   ]
  },
  {
   "cell_type": "code",
   "execution_count": null,
   "id": "d7af02ec",
   "metadata": {},
   "outputs": [],
   "source": []
  },
  {
   "cell_type": "code",
   "execution_count": 42,
   "id": "eaa0ca55",
   "metadata": {},
   "outputs": [
    {
     "name": "stdout",
     "output_type": "stream",
     "text": [
      "1\n",
      "4\n",
      "1 2 3 4\n",
      "3\n",
      "1\n"
     ]
    }
   ],
   "source": [
    "n=int(input())\n",
    "while n>=1:\n",
    "    flag=0\n",
    "    b=int(input())\n",
    "    c=[x for x in input().split()]\n",
    "    d=int(input())\n",
    "    for i in range(0,len(c)):\n",
    "        for j in range(i+1,len(c)):\n",
    "            if int(c[i])+int(c[j])==d:\n",
    "                flag=flag+1\n",
    "    print(flag)\n",
    "    n=n-1"
   ]
  },
  {
   "cell_type": "code",
   "execution_count": 43,
   "id": "3509f7fc",
   "metadata": {},
   "outputs": [
    {
     "name": "stdout",
     "output_type": "stream",
     "text": [
      "1\n",
      "6\n",
      "5 5 4 4 5 4\n",
      "13\n",
      "9\n"
     ]
    }
   ],
   "source": [
    "n=int(input())\n",
    "while n>=1:\n",
    "    flag=0\n",
    "    b=int(input())\n",
    "    if b>0:\n",
    "        c=[x for x in input().split()]\n",
    "    else:\n",
    "        c=[]\n",
    "    d=int(input())\n",
    "    for i in range(0,len(c)):\n",
    "        for j in range(i+1,len(c)):\n",
    "            for k in range(j+1,len(c)):\n",
    "                if int(c[i])+int(c[j])+int(c[k])==d:\n",
    "                    flag=flag+1\n",
    "    print(flag)\n",
    "    n=n-1"
   ]
  },
  {
   "cell_type": "code",
   "execution_count": 3,
   "id": "f86836b2",
   "metadata": {},
   "outputs": [
    {
     "name": "stdout",
     "output_type": "stream",
     "text": [
      "True\n"
     ]
    }
   ],
   "source": [
    "a = \"abce\" >= \"abcdef\"\n",
    "print(a)\n"
   ]
  },
  {
   "cell_type": "code",
   "execution_count": 49,
   "id": "78843c71",
   "metadata": {},
   "outputs": [
    {
     "name": "stdout",
     "output_type": "stream",
     "text": [
      "abcdcba\n",
      "true\n"
     ]
    }
   ],
   "source": [
    "def palindrome(n):\n",
    "    c=len(n)//2\n",
    "    if len(n)==2:\n",
    "        if n[0]==n[1]:\n",
    "            return True\n",
    "        else:\n",
    "            return False\n",
    "    i=0\n",
    "    x=-1\n",
    "    flag=True\n",
    "    while i<c:\n",
    "        if n[i]!=n[x]:\n",
    "            return False\n",
    "        else:\n",
    "            i=i+1\n",
    "            x=x-1\n",
    "    else:\n",
    "        return True\n",
    "n=input()\n",
    "b=palindrome(n)\n",
    "if palindrome(n):\n",
    "    print(\"true\")\n",
    "else:\n",
    "    print(\"false\")"
   ]
  },
  {
   "cell_type": "code",
   "execution_count": 81,
   "id": "071ed9b5",
   "metadata": {},
   "outputs": [
    {
     "ename": "KeyboardInterrupt",
     "evalue": "Interrupted by user",
     "output_type": "error",
     "traceback": [
      "\u001b[1;31m---------------------------------------------------------------------------\u001b[0m",
      "\u001b[1;31mKeyboardInterrupt\u001b[0m                         Traceback (most recent call last)",
      "Input \u001b[1;32mIn [81]\u001b[0m, in \u001b[0;36m<cell line: 14>\u001b[1;34m()\u001b[0m\n\u001b[0;32m     12\u001b[0m     \u001b[38;5;28;01melse\u001b[39;00m:\n\u001b[0;32m     13\u001b[0m         \u001b[38;5;28;01mreturn\u001b[39;00m \u001b[38;5;28;01mFalse\u001b[39;00m\n\u001b[1;32m---> 14\u001b[0m string1\u001b[38;5;241m=\u001b[39m\u001b[38;5;28;43minput\u001b[39;49m\u001b[43m(\u001b[49m\u001b[43m)\u001b[49m\n\u001b[0;32m     15\u001b[0m string2\u001b[38;5;241m=\u001b[39m\u001b[38;5;28minput\u001b[39m()\n\u001b[0;32m     16\u001b[0m ans \u001b[38;5;241m=\u001b[39m isPermutation(string1, string2)\n",
      "File \u001b[1;32m~\\anaconda3\\lib\\site-packages\\ipykernel\\kernelbase.py:1075\u001b[0m, in \u001b[0;36mKernel.raw_input\u001b[1;34m(self, prompt)\u001b[0m\n\u001b[0;32m   1071\u001b[0m \u001b[38;5;28;01mif\u001b[39;00m \u001b[38;5;129;01mnot\u001b[39;00m \u001b[38;5;28mself\u001b[39m\u001b[38;5;241m.\u001b[39m_allow_stdin:\n\u001b[0;32m   1072\u001b[0m     \u001b[38;5;28;01mraise\u001b[39;00m StdinNotImplementedError(\n\u001b[0;32m   1073\u001b[0m         \u001b[38;5;124m\"\u001b[39m\u001b[38;5;124mraw_input was called, but this frontend does not support input requests.\u001b[39m\u001b[38;5;124m\"\u001b[39m\n\u001b[0;32m   1074\u001b[0m     )\n\u001b[1;32m-> 1075\u001b[0m \u001b[38;5;28;01mreturn\u001b[39;00m \u001b[38;5;28;43mself\u001b[39;49m\u001b[38;5;241;43m.\u001b[39;49m\u001b[43m_input_request\u001b[49m\u001b[43m(\u001b[49m\n\u001b[0;32m   1076\u001b[0m \u001b[43m    \u001b[49m\u001b[38;5;28;43mstr\u001b[39;49m\u001b[43m(\u001b[49m\u001b[43mprompt\u001b[49m\u001b[43m)\u001b[49m\u001b[43m,\u001b[49m\n\u001b[0;32m   1077\u001b[0m \u001b[43m    \u001b[49m\u001b[38;5;28;43mself\u001b[39;49m\u001b[38;5;241;43m.\u001b[39;49m\u001b[43m_parent_ident\u001b[49m\u001b[43m[\u001b[49m\u001b[38;5;124;43m\"\u001b[39;49m\u001b[38;5;124;43mshell\u001b[39;49m\u001b[38;5;124;43m\"\u001b[39;49m\u001b[43m]\u001b[49m\u001b[43m,\u001b[49m\n\u001b[0;32m   1078\u001b[0m \u001b[43m    \u001b[49m\u001b[38;5;28;43mself\u001b[39;49m\u001b[38;5;241;43m.\u001b[39;49m\u001b[43mget_parent\u001b[49m\u001b[43m(\u001b[49m\u001b[38;5;124;43m\"\u001b[39;49m\u001b[38;5;124;43mshell\u001b[39;49m\u001b[38;5;124;43m\"\u001b[39;49m\u001b[43m)\u001b[49m\u001b[43m,\u001b[49m\n\u001b[0;32m   1079\u001b[0m \u001b[43m    \u001b[49m\u001b[43mpassword\u001b[49m\u001b[38;5;241;43m=\u001b[39;49m\u001b[38;5;28;43;01mFalse\u001b[39;49;00m\u001b[43m,\u001b[49m\n\u001b[0;32m   1080\u001b[0m \u001b[43m\u001b[49m\u001b[43m)\u001b[49m\n",
      "File \u001b[1;32m~\\anaconda3\\lib\\site-packages\\ipykernel\\kernelbase.py:1120\u001b[0m, in \u001b[0;36mKernel._input_request\u001b[1;34m(self, prompt, ident, parent, password)\u001b[0m\n\u001b[0;32m   1117\u001b[0m             \u001b[38;5;28;01mbreak\u001b[39;00m\n\u001b[0;32m   1118\u001b[0m \u001b[38;5;28;01mexcept\u001b[39;00m \u001b[38;5;167;01mKeyboardInterrupt\u001b[39;00m:\n\u001b[0;32m   1119\u001b[0m     \u001b[38;5;66;03m# re-raise KeyboardInterrupt, to truncate traceback\u001b[39;00m\n\u001b[1;32m-> 1120\u001b[0m     \u001b[38;5;28;01mraise\u001b[39;00m \u001b[38;5;167;01mKeyboardInterrupt\u001b[39;00m(\u001b[38;5;124m\"\u001b[39m\u001b[38;5;124mInterrupted by user\u001b[39m\u001b[38;5;124m\"\u001b[39m) \u001b[38;5;28;01mfrom\u001b[39;00m \u001b[38;5;28mNone\u001b[39m\n\u001b[0;32m   1121\u001b[0m \u001b[38;5;28;01mexcept\u001b[39;00m \u001b[38;5;167;01mException\u001b[39;00m:\n\u001b[0;32m   1122\u001b[0m     \u001b[38;5;28mself\u001b[39m\u001b[38;5;241m.\u001b[39mlog\u001b[38;5;241m.\u001b[39mwarning(\u001b[38;5;124m\"\u001b[39m\u001b[38;5;124mInvalid Message:\u001b[39m\u001b[38;5;124m\"\u001b[39m, exc_info\u001b[38;5;241m=\u001b[39m\u001b[38;5;28;01mTrue\u001b[39;00m)\n",
      "\u001b[1;31mKeyboardInterrupt\u001b[0m: Interrupted by user"
     ]
    }
   ],
   "source": [
    "def isPermutation(string1,string2) :\n",
    "    flag=0\n",
    "    if len(string1)!=len(string2):\n",
    "        return False\n",
    "    for i  in range(0,len(string1)):\n",
    "        for j in range(0,len(string2)):\n",
    "            if string1[i]==string2[j]:\n",
    "                flag=flag+1\n",
    "                break\n",
    "    if flag>len(string1) or flag==len(string1) or :\n",
    "        return True \n",
    "    else:\n",
    "        return False\n",
    "string1=input()\n",
    "string2=input()\n",
    "ans = isPermutation(string1, string2)\n",
    "if ans :\n",
    "    print('true')\n",
    "else :\n",
    "    print('false')\n"
   ]
  },
  {
   "cell_type": "code",
   "execution_count": 93,
   "id": "83ff9e6d",
   "metadata": {},
   "outputs": [
    {
     "name": "stdout",
     "output_type": "stream",
     "text": [
      "[2, 3, 5]\n"
     ]
    }
   ],
   "source": []
  },
  {
   "cell_type": "code",
   "execution_count": 96,
   "id": "a2bcf0d6",
   "metadata": {},
   "outputs": [
    {
     "name": "stdout",
     "output_type": "stream",
     "text": [
      "ajabc\n",
      "abbjc\n",
      "false\n"
     ]
    }
   ],
   "source": [
    "def isPermutation(string1,string2) :\n",
    "    flag=0\n",
    "    l1=[]\n",
    "    l2=[]\n",
    "    if len(string1)==len(string2):\n",
    "        for i in string1:\n",
    "            l1.append(i)\n",
    "        for j in string2:\n",
    "            l2.append(j)\n",
    "        for a in l1:\n",
    "            if a in l2:\n",
    "                flag=flag+1\n",
    "                l1.remove(a)\n",
    "                break\n",
    "        if flag==len(l2):\n",
    "            return True\n",
    "        else:\n",
    "            return False\n",
    "    else:\n",
    "        return  False\n",
    "string1=input()\n",
    "string2=input()\n",
    "ans = isPermutation(string1, string2)\n",
    "if ans :\n",
    "    print('true')\n",
    "else :\n",
    "    print('false')"
   ]
  },
  {
   "cell_type": "code",
   "execution_count": 7,
   "id": "347c9d7f",
   "metadata": {},
   "outputs": [
    {
     "name": "stdout",
     "output_type": "stream",
     "text": [
      "listen\n",
      "silent\n",
      "['s', 'i', 'e', 'n', 't']\n",
      "['s', 'e', 'n', 't']\n",
      "['e', 'n', 't']\n",
      "['e', 'n']\n",
      "['n']\n",
      "[]\n",
      "true\n"
     ]
    }
   ],
   "source": [
    "def isPermutation(string1,string2) :\n",
    "    l1=[]\n",
    "    l2=[]\n",
    "    if len(string1)==len(string2):\n",
    "        for i in string1:\n",
    "            l1.append(i)\n",
    "        for j in string2:\n",
    "            l2.append(j)\n",
    "        for a in l1:\n",
    "            if a in l2:\n",
    "                l2.remove(a)\n",
    "                print(l2)\n",
    "        if len(l2)==0:\n",
    "            return True\n",
    "        else:\n",
    "            return False\n",
    "    else:\n",
    "        return  False\n",
    "string1=input()\n",
    "string2=input()\n",
    "ans = isPermutation(string1, string2)\n",
    "if ans :\n",
    "    print('true')\n",
    "else :\n",
    "    print('false')"
   ]
  },
  {
   "cell_type": "code",
   "execution_count": 4,
   "id": "3883ffa6",
   "metadata": {},
   "outputs": [
    {
     "name": "stdout",
     "output_type": "stream",
     "text": [
      "hello\n"
     ]
    }
   ],
   "source": [
    "a=[]\n",
    "if a==[]:\n",
    "    print(\"hello\")"
   ]
  },
  {
   "cell_type": "code",
   "execution_count": 2,
   "id": "440e71da",
   "metadata": {},
   "outputs": [
    {
     "name": "stdout",
     "output_type": "stream",
     "text": [
      "[1, 1, 2, 2, 2, 3, 4, 4, 5]\n"
     ]
    }
   ],
   "source": [
    "n=int(input())\n",
    "while n>=1:\n",
    "    a=[x for x in input().split()]\n",
    "    for i in range(0,a[0]):\n",
    "        b=[y for y in range().input()]\n",
    "        "
   ]
  },
  {
   "cell_type": "code",
   "execution_count": 24,
   "id": "35605307",
   "metadata": {},
   "outputs": [
    {
     "name": "stdout",
     "output_type": "stream",
     "text": [
      "1\n",
      "2 2\n",
      "1 1 \n",
      "1 1 \n",
      "2\n"
     ]
    }
   ],
   "source": [
    "d=int(input())\n",
    "while d>=1:\n",
    "    str=input().split()\n",
    "    n,m=int(str[0]),int(str[1])\n",
    "    a=[[int(x) for x in input().split()]for i in range(n)]\n",
    "    max_num=-1\n",
    "    index=-1\n",
    "    for k in range(0,m):\n",
    "        sum=0\n",
    "        for j in range(0,n):\n",
    "            sum=sum+a[j][k]\n",
    "        if sum>max_num:\n",
    "            max_num=sum\n",
    "            index=k\n",
    "    for l in range(n):\n",
    "        sum=0\n",
    "        for h in range(m):\n",
    "            sum=sum+a[l][h]\n",
    "        if sum>max_num:\n",
    "            max_num=sum\n",
    "    print(max_num)\n",
    "    d=d-1"
   ]
  },
  {
   "cell_type": "code",
   "execution_count": null,
   "id": "54d4c51a",
   "metadata": {},
   "outputs": [],
   "source": [
    "d=int(input())\n",
    "while d>=1:\n",
    "    str=input().split()\n",
    "    n,m=int(str[0]),int(str[1])\n",
    "    while n>0:\n",
    "        a=[[int(x) for x in input().split()]for i in range(n)]\n",
    "        max_num=-1\n",
    "        index=-1\n",
    "        for l in range(n):\n",
    "            sum=0\n",
    "            for h in range(m):\n",
    "                sum=sum+a[l][h]\n",
    "            if sum>max_num:\n",
    "                max_num=sum\n",
    "                q=True\n",
    "                row=l\n",
    "        for k in range(0,m):\n",
    "            sum=0\n",
    "            for j in range(0,n):\n",
    "                sum=sum+a[j][k]\n",
    "            if sum>max_num:\n",
    "                max_num=sum\n",
    "                q=False\n",
    "                col=k\n",
    "        if a:\n",
    "            print(\"column\",row,max_num)\n",
    "        else:\n",
    "            print(\"row\",col,max_num)\n",
    "    d=d-1"
   ]
  },
  {
   "cell_type": "code",
   "execution_count": 33,
   "id": "f8478dfc",
   "metadata": {},
   "outputs": [
    {
     "name": "stdout",
     "output_type": "stream",
     "text": [
      "siddham\n"
     ]
    },
    {
     "data": {
      "text/plain": [
       "['a', 'd', 'd', 'h', 'i', 'm', 's']"
      ]
     },
     "execution_count": 33,
     "metadata": {},
     "output_type": "execute_result"
    }
   ],
   "source": [
    "n=input()\n",
    "b=[]\n",
    "for i in n:\n",
    "    b.append(i)\n",
    "b.sort()"
   ]
  },
  {
   "cell_type": "code",
   "execution_count": null,
   "id": "63f817bb",
   "metadata": {},
   "outputs": [],
   "source": [
    "n=input()\n",
    "b=[]\n",
    "num=1\n",
    "for i in range(0,len(n)):\n",
    "    while n[i]==n[i]:\n",
    "        num=num+1\n",
    "    "
   ]
  },
  {
   "cell_type": "code",
   "execution_count": 4,
   "id": "fa1f371b",
   "metadata": {},
   "outputs": [
    {
     "name": "stdout",
     "output_type": "stream",
     "text": [
      "1 2 3\n",
      "1 2 3\n",
      "6\n"
     ]
    }
   ],
   "source": [
    "a=[int(x) for x in input().split()]\n",
    "b=[int(y) for y in input().split()]\n",
    "prod=0\n",
    "for i in range(len(a)):\n",
    "    for j in range(len(b)):\n",
    "        "
   ]
  },
  {
   "cell_type": "code",
   "execution_count": 1,
   "id": "26de3337",
   "metadata": {},
   "outputs": [
    {
     "name": "stdout",
     "output_type": "stream",
     "text": [
      "1 2 3 4 5 6\n",
      "1\n",
      "3\n",
      "5\n"
     ]
    }
   ],
   "source": [
    "a=[int(x) for x in input().split()]\n",
    "for i in range(len(a)):\n",
    "    if i%2==0:\n",
    "        print(a[i])"
   ]
  },
  {
   "cell_type": "code",
   "execution_count": 7,
   "id": "df969be3",
   "metadata": {},
   "outputs": [
    {
     "name": "stdout",
     "output_type": "stream",
     "text": [
      "1,2,3,4,5,6,5,4,3,2,1\n",
      "6\n"
     ]
    }
   ],
   "source": [
    "a=[int(x)for x in input().split()]\n",
    "b=1\n",
    "for i in range(len(a)):\n",
    "    if b<a[i]:\n",
    "        b=a[i]\n",
    "print(b)"
   ]
  },
  {
   "cell_type": "code",
   "execution_count": 3,
   "id": "b67b642e",
   "metadata": {},
   "outputs": [
    {
     "name": "stdout",
     "output_type": "stream",
     "text": [
      "hello my name is siddham jain\n",
      "h\n",
      "ello my name is siddam jain"
     ]
    }
   ],
   "source": [
    "a=input()\n",
    "b=input()\n",
    "for i in range(len(a)):\n",
    "    if a[i]==b:\n",
    "        continue\n",
    "    else:\n",
    "        print(a[i],end=\"\")"
   ]
  },
  {
   "cell_type": "code",
   "execution_count": 32,
   "id": "62018720",
   "metadata": {},
   "outputs": [
    {
     "name": "stdout",
     "output_type": "stream",
     "text": [
      "hello world in python\n",
      "olleh dlrow ni nohtyp "
     ]
    }
   ],
   "source": [
    "a=[x for x in input().split()]\n",
    "for i in a:\n",
    "    for j in range(len(str(i))-1,-1,-1):\n",
    "        print(i[j],end=\"\")\n",
    "    print(\" \",end=\"\")"
   ]
  },
  {
   "cell_type": "code",
   "execution_count": 48,
   "id": "cf07d5a6",
   "metadata": {},
   "outputs": [
    {
     "name": "stdout",
     "output_type": "stream",
     "text": [
      "jhdbfhwb jkf\n",
      "b\n"
     ]
    }
   ],
   "source": [
    "n=input()\n",
    "p=0\n",
    "z=[]\n",
    "for j in z:\n",
    "    z.append(j)\n",
    "for i in range(len(z)):\n",
    "    flag=0\n",
    "    for k in range(len(n)):\n",
    "        if z[i]==n[k]:\n",
    "            flag=flag+1\n",
    "    if p<flag:\n",
    "        c=z[i]\n",
    "        p=flag\n",
    "print(c)"
   ]
  },
  {
   "cell_type": "code",
   "execution_count": 35,
   "id": "1d00a092",
   "metadata": {},
   "outputs": [
    {
     "name": "stdout",
     "output_type": "stream",
     "text": [
      "aaaabbc\n",
      "['a', 'b', 'c']\n"
     ]
    },
    {
     "ename": "IndexError",
     "evalue": "string index out of range",
     "output_type": "error",
     "traceback": [
      "\u001b[1;31m---------------------------------------------------------------------------\u001b[0m",
      "\u001b[1;31mIndexError\u001b[0m                                Traceback (most recent call last)",
      "Input \u001b[1;32mIn [35]\u001b[0m, in \u001b[0;36m<cell line: 9>\u001b[1;34m()\u001b[0m\n\u001b[0;32m     12\u001b[0m \u001b[38;5;28;01mif\u001b[39;00m n[i]\u001b[38;5;241m==\u001b[39mf[k]:\n\u001b[0;32m     13\u001b[0m     flag\u001b[38;5;241m=\u001b[39mflag\u001b[38;5;241m+\u001b[39m\u001b[38;5;241m1\u001b[39m\n\u001b[1;32m---> 14\u001b[0m \u001b[38;5;28;01melif\u001b[39;00m f[k]\u001b[38;5;241m==\u001b[39m\u001b[43mn\u001b[49m\u001b[43m[\u001b[49m\u001b[43mi\u001b[49m\u001b[38;5;241;43m+\u001b[39;49m\u001b[38;5;241;43m1\u001b[39;49m\u001b[43m]\u001b[49m:\n\u001b[0;32m     15\u001b[0m     flag\u001b[38;5;241m=\u001b[39mflag\u001b[38;5;241m+\u001b[39m\u001b[38;5;241m1\u001b[39m\n\u001b[0;32m     16\u001b[0m \u001b[38;5;28;01melse\u001b[39;00m:\n",
      "\u001b[1;31mIndexError\u001b[0m: string index out of range"
     ]
    }
   ],
   "source": [
    "n=input()\n",
    "f=[]\n",
    "f.append(n[0])\n",
    "for z in range(1,len(n)):\n",
    "    if n[z] not in n[z-1]:\n",
    "        f.append(n[z])\n",
    "print(f)\n",
    "    \n",
    "for k in range(len(f)):\n",
    "    flag=0\n",
    "    for i in range(k,len(n)):\n",
    "        if n[i]==f[k]:\n",
    "            flag=flag+1\n",
    "        elif f[k]==n[i+1]:\n",
    "            flag=flag+1\n",
    "        else:\n",
    "            continue\n",
    "    print(str(f[k])+str(flag),end=\"\")"
   ]
  },
  {
   "cell_type": "code",
   "execution_count": 15,
   "id": "3b78f341",
   "metadata": {},
   "outputs": [
    {
     "name": "stdout",
     "output_type": "stream",
     "text": [
      "hello3\n"
     ]
    }
   ],
   "source": [
    "a=\"hello\"\n",
    "b=\"3\"\n",
    "print(a+b)"
   ]
  },
  {
   "cell_type": "code",
   "execution_count": 34,
   "id": "0022a997",
   "metadata": {},
   "outputs": [
    {
     "name": "stdout",
     "output_type": "stream",
     "text": [
      "aaaabbbc\n",
      "a1a2a3a4a1a2a3a4a1a2a3a4b1b2b3b1b2b3b1b2"
     ]
    },
    {
     "ename": "IndexError",
     "evalue": "string index out of range",
     "output_type": "error",
     "traceback": [
      "\u001b[1;31m---------------------------------------------------------------------------\u001b[0m",
      "\u001b[1;31mIndexError\u001b[0m                                Traceback (most recent call last)",
      "Input \u001b[1;32mIn [34]\u001b[0m, in \u001b[0;36m<cell line: 3>\u001b[1;34m()\u001b[0m\n\u001b[0;32m      6\u001b[0m \u001b[38;5;28;01mif\u001b[39;00m n[i]\u001b[38;5;241m==\u001b[39mn[j] \u001b[38;5;129;01mand\u001b[39;00m i\u001b[38;5;241m==\u001b[39mj:\n\u001b[0;32m      7\u001b[0m     flag\u001b[38;5;241m=\u001b[39mflag\u001b[38;5;241m+\u001b[39m\u001b[38;5;241m1\u001b[39m\n\u001b[1;32m----> 8\u001b[0m \u001b[38;5;28;01melif\u001b[39;00m n[j]\u001b[38;5;241m==\u001b[39m\u001b[43mn\u001b[49m\u001b[43m[\u001b[49m\u001b[43mi\u001b[49m\u001b[38;5;241;43m+\u001b[39;49m\u001b[38;5;241;43m1\u001b[39;49m\u001b[43m]\u001b[49m:\n\u001b[0;32m      9\u001b[0m     flag\u001b[38;5;241m=\u001b[39mflag\u001b[38;5;241m+\u001b[39m\u001b[38;5;241m1\u001b[39m\n\u001b[0;32m     10\u001b[0m \u001b[38;5;28;01melse\u001b[39;00m:\n",
      "\u001b[1;31mIndexError\u001b[0m: string index out of range"
     ]
    }
   ],
   "source": []
  },
  {
   "cell_type": "code",
   "execution_count": 44,
   "id": "7a9d75e7",
   "metadata": {},
   "outputs": [
    {
     "name": "stdout",
     "output_type": "stream",
     "text": [
      "7\n"
     ]
    }
   ],
   "source": [
    "a = {1:2,\"list\":[1,2],3:5}\n",
    "b = {4:5,3:7}\n",
    "a.update(b)\n",
    "print(a[3])"
   ]
  },
  {
   "cell_type": "code",
   "execution_count": 40,
   "id": "3b74aa04",
   "metadata": {},
   "outputs": [
    {
     "name": "stdout",
     "output_type": "stream",
     "text": [
      "[1, 2, 3, 4, 5, 6]\n",
      "[1, 2, 3, 4, 5]\n",
      "[1, 2, 4, 3, 4, 5]\n",
      "[1, 2, 3, 4, 5]\n",
      "[1, 2, 3, 5]\n",
      "[1, 2, 3, 4, 5]\n",
      "[1, 2, 3, 4, 4]\n"
     ]
    }
   ],
   "source": [
    "a=[1,2,3,4,5]\n",
    "b=[1,2,3,4,5]\n",
    "a.append(6)\n",
    "print(a)\n",
    "a.pop()\n",
    "print(a)\n",
    "a.insert(2,4)\n",
    "print(a)\n",
    "a.remove(4)\n",
    "print(a)\n",
    "a.sort\n",
    "del b[3]\n",
    "print(b)\n"
   ]
  },
  {
   "cell_type": "code",
   "execution_count": 2,
   "id": "7c7b3b8a",
   "metadata": {},
   "outputs": [
    {
     "name": "stdout",
     "output_type": "stream",
     "text": [
      "1 2 3 4 5 4 3 2 1\n",
      "1 2 3 4 5 "
     ]
    }
   ],
   "source": [
    "a=[int(x) for x in input().split()]\n",
    "z=[]\n",
    "c=[]\n",
    "for i in a:\n",
    "    if i not in z:\n",
    "        z.append(i)\n",
    "    elif i in z:\n",
    "        c.append(i)\n",
    "for k in z:\n",
    "    print(k,end=\" \")"
   ]
  },
  {
   "cell_type": "code",
   "execution_count": 25,
   "id": "4efc6e3d",
   "metadata": {},
   "outputs": [
    {
     "name": "stdout",
     "output_type": "stream",
     "text": [
      "3 \n",
      "2 \n",
      "3\n",
      "4\n"
     ]
    },
    {
     "data": {
      "text/plain": [
       "[2, 3, 4]"
      ]
     },
     "execution_count": 25,
     "metadata": {},
     "output_type": "execute_result"
    }
   ],
   "source": [
    "#line seprated input\n",
    "li=[]\n",
    "n=int(input())\n",
    "for i in range(n):\n",
    "    curr=int(input())\n",
    "    li.append(curr)\n",
    "li"
   ]
  },
  {
   "cell_type": "code",
   "execution_count": 33,
   "id": "d535732b",
   "metadata": {},
   "outputs": [
    {
     "name": "stdout",
     "output_type": "stream",
     "text": [
      "1 2 3 4 5 6 7 6 5 4 3 2 1\n",
      "9\n",
      "29\n"
     ]
    }
   ],
   "source": [
    "a=[int(x) for x in input().split()]\n",
    "b=[]\n",
    "c=int(input())\n",
    "for i in range(0,len(a)):\n",
    "    for j in range(i+1,len(a)):\n",
    "        for k in range(j+1,len(a)):\n",
    "            if a[i]+a[j]+a[k]==c:\n",
    "                b.append(a[i])\n",
    "            else:\n",
    "                continue\n",
    "flag=0\n",
    "for i in b:\n",
    "    flag=flag+1\n",
    "print(flag)"
   ]
  },
  {
   "cell_type": "code",
   "execution_count": 37,
   "id": "428ae5df",
   "metadata": {},
   "outputs": [
    {
     "name": "stdout",
     "output_type": "stream",
     "text": [
      "1 0 1 0 0 0 1 0 1 0 1 0 1 0 0 1 1 1 1 0 1 0\n",
      "[0, 0, 0, 0, 0, 0, 0, 0, 0, 0, 0, 1, 1, 1, 1, 1, 1, 1, 1, 1, 1, 1]\n"
     ]
    }
   ],
   "source": [
    "x=[int(i) for i in input().split()]\n",
    "b=[]\n",
    "c=[]\n",
    "for j in x:\n",
    "    if j==0:\n",
    "        b.append(j)\n",
    "    else:\n",
    "        c.append(j)\n",
    "b.extend(c)\n",
    "print(b)"
   ]
  },
  {
   "cell_type": "code",
   "execution_count": 38,
   "id": "294f32aa",
   "metadata": {},
   "outputs": [
    {
     "name": "stdout",
     "output_type": "stream",
     "text": [
      "1 2 3 4 5 6 7\n",
      "1 3 5 7 9\n",
      "['1', '3', '5', '7']\n"
     ]
    }
   ],
   "source": [
    "a=[int(x) for x in input().split()]\n",
    "b=[int(y) for y in input().split()]\n",
    "c=[]\n",
    "for i in a:\n",
    "    if i in b:\n",
    "        c.append(i)\n",
    "print(c)"
   ]
  },
  {
   "cell_type": "code",
   "execution_count": 14,
   "id": "4382809c",
   "metadata": {},
   "outputs": [
    {
     "name": "stdout",
     "output_type": "stream",
     "text": [
      "11/31/1700\n",
      "['november', 31, 1700]\n"
     ]
    }
   ],
   "source": [
    "n=[int(x) for x in input().split(\"/\")]\n",
    "a=[\"January\",\"February\",\"March\",\"April\",\"May\",\"june\",\"july\",\"august\",\"september\",\"october\",\"november\",\"december\"]\n",
    "for i in range(len(n)):\n",
    "        if i==0:\n",
    "            n[i]=a[n[i]-1]\n",
    "print(n)"
   ]
  },
  {
   "cell_type": "code",
   "execution_count": null,
   "id": "5aef6077",
   "metadata": {},
   "outputs": [],
   "source": [
    "n=[[x for x in input().split()]for x in range(3)]\n",
    "print(n)"
   ]
  },
  {
   "cell_type": "code",
   "execution_count": 9,
   "id": "154eeefb",
   "metadata": {},
   "outputs": [
    {
     "name": "stdout",
     "output_type": "stream",
     "text": [
      "<class 'tuple'>\n"
     ]
    }
   ],
   "source": [
    "a=[int(x) for x in input().split()]\n",
    "for x in len"
   ]
  },
  {
   "cell_type": "code",
   "execution_count": 13,
   "id": "ca4f0297",
   "metadata": {},
   "outputs": [
    {
     "name": "stdout",
     "output_type": "stream",
     "text": [
      "vardhaman\n",
      "a\n",
      "vrdhmn"
     ]
    }
   ],
   "source": [
    "a=input()\n",
    "for i in a:\n",
    "    if i!=b:\n",
    "        print(i,end=\"\")"
   ]
  },
  {
   "cell_type": "code",
   "execution_count": 13,
   "id": "aa1c6bff",
   "metadata": {},
   "outputs": [
    {
     "name": "stdout",
     "output_type": "stream",
     "text": [
      "1\n",
      "2 3\n",
      "5 7 9\n",
      "9 9 9\n",
      "row 1 27\n"
     ]
    }
   ],
   "source": [
    "d=int(input())\n",
    "while d>=1:\n",
    "    str=input().split()\n",
    "    n,m=int(str[0]),int(str[1])\n",
    "    if n<=0:\n",
    "        print(\"row 0 -2147483648\")\n",
    "        break\n",
    "    else:\n",
    "        a=[[int(x) for x in input().split()]for i in range(n)]\n",
    "        max_num=-1\n",
    "        index=-1\n",
    "        for l in range(n):\n",
    "            sum=0\n",
    "            for h in range(m):\n",
    "                sum=sum+a[l][h]\n",
    "            if sum>max_num:\n",
    "                max_num=sum\n",
    "                q=True\n",
    "                row=l+1\n",
    "        for j in range(n):\n",
    "            sum=0\n",
    "            for k in range(m):\n",
    "                sum=sum+a[j][k]\n",
    "            if sum>max_num:\n",
    "                max_num=sum\n",
    "                q=False\n",
    "                col=k+1\n",
    "        if q==True:\n",
    "            print(\"row\",row,max_num)\n",
    "        else:\n",
    "            print(\"column\",col,max_num)\n",
    "    d=d-1"
   ]
  },
  {
   "cell_type": "code",
   "execution_count": null,
   "id": "26a9e2ac",
   "metadata": {},
   "outputs": [],
   "source": [
    "str=input().split()\n",
    "a,b=str[0],str[1]\n",
    "print(a)"
   ]
  },
  {
   "cell_type": "code",
   "execution_count": null,
   "id": "7a92087e",
   "metadata": {},
   "outputs": [],
   "source": [
    "def isPermutation(string1,string2) :\n",
    "    flag=0\n",
    "    l1=[]\n",
    "    l2=[]\n",
    "    if len(string1)==len(string2):\n",
    "        for i in string1:\n",
    "            l1.append(i)\n",
    "        for j in string2:\n",
    "            l2.append(j)\n",
    "        for a in l1:\n",
    "            if a in l2:\n",
    "                flag=flag+1\n",
    "        if flag>=len(l1):\n",
    "            return True\n",
    "        else:\n",
    "            return False\n",
    "    else:\n",
    "        return  False\n",
    "string1=input()\n",
    "string2=input()\n",
    "ans = isPermutation(string1, string2)\n",
    "if ans :\n",
    "    print('true')\n",
    "else :\n",
    "    print('false')"
   ]
  },
  {
   "cell_type": "code",
   "execution_count": null,
   "id": "bc074b8a",
   "metadata": {},
   "outputs": [],
   "source": [
    "a=[x for x in input().split()]\n",
    "n,m=int(a[0]),int(a[1])\n",
    "i=[[[a[or i in input().split()]for j in range(n)]"
   ]
  },
  {
   "cell_type": "code",
   "execution_count": 37,
   "id": "3c81e799",
   "metadata": {},
   "outputs": [
    {
     "name": "stdout",
     "output_type": "stream",
     "text": [
      "Hello indiaHello indiaHello india\n"
     ]
    }
   ],
   "source": [
    "a=\"Hello india\"\n",
    "b=3\n",
    "print(a*b)"
   ]
  },
  {
   "cell_type": "code",
   "execution_count": 73,
   "id": "ee53d6e7",
   "metadata": {},
   "outputs": [
    {
     "name": "stdout",
     "output_type": "stream",
     "text": [
      "INDIA\n",
      "NDIAI\n"
     ]
    }
   ],
   "source": [
    "a=input()\n",
    "print(a[1:],end=\"\")\n",
    "print(a[0])"
   ]
  },
  {
   "cell_type": "code",
   "execution_count": 89,
   "id": "c07dfba3",
   "metadata": {},
   "outputs": [
    {
     "name": "stdout",
     "output_type": "stream",
     "text": [
      "madam\n",
      "True\n"
     ]
    }
   ],
   "source": [
    "a=input()\n",
    "flag=0\n",
    "for i in range(len(a)):\n",
    "    if a[i]==a[-i-1]:\n",
    "        flag=flag+1\n",
    "if len(a)==flag:\n",
    "    print(True)\n",
    "else:\n",
    "    print(False)"
   ]
  },
  {
   "cell_type": "code",
   "execution_count": 93,
   "id": "ca654bfa",
   "metadata": {},
   "outputs": [
    {
     "name": "stdout",
     "output_type": "stream",
     "text": [
      "madam\n",
      "True\n"
     ]
    }
   ],
   "source": [
    "a=input()\n",
    "b=a[::-1]\n",
    "if a==b:\n",
    "    print(True)\n",
    "else:\n",
    "    print(False)"
   ]
  },
  {
   "cell_type": "code",
   "execution_count": 112,
   "id": "df4c78b1",
   "metadata": {},
   "outputs": [
    {
     "name": "stdout",
     "output_type": "stream",
     "text": [
      "BHARAT\n"
     ]
    }
   ],
   "source": [
    "str=\"INDIA\"\n",
    "str=str.replace(\"INDIA\", \"BHARAT\")\n",
    "print(str)"
   ]
  },
  {
   "cell_type": "code",
   "execution_count": 99,
   "id": "33917cc7",
   "metadata": {},
   "outputs": [
    {
     "data": {
      "text/plain": [
       "6"
      ]
     },
     "execution_count": 99,
     "metadata": {},
     "output_type": "execute_result"
    }
   ],
   "source": [
    "str = \"hello india\"\n",
    "str.find(\"india\")"
   ]
  },
  {
   "cell_type": "code",
   "execution_count": 3,
   "id": "9d4bc506",
   "metadata": {},
   "outputs": [
    {
     "name": "stdout",
     "output_type": "stream",
     "text": [
      "aabbbccse\n",
      "a2b3c2se"
     ]
    }
   ],
   "source": [
    "n=input()\n",
    "flag=1\n",
    "for i in range(1,len(n)):\n",
    "\tif i==len(n)-1:\n",
    "\t\tif flag==1:\n",
    "\t\t\tprint(n[i],end=\"\")\n",
    "\t\telse:\n",
    "\t\t\tprint(n[i]+str(flag),end=\"\")\n",
    "\telif n[i-1]==n[i]:\n",
    "\t\tflag=flag+1\n",
    "\t\tif n[i]!=n[i+1]:\n",
    "\t\t\tif flag==1:\n",
    "\t\t\t\tprint(n[i],end=\"\")\n",
    "\t\t\telse:\n",
    "\t\t\t\tprint(n[i]+str(flag),end=\"\")\n",
    "\t\t\tflag=flag+1\n",
    "\telse:\n",
    "\t\tflag=1\n",
    "\t\tif n[i]!=n[i+1]:\n",
    "\t\t\tif flag==1:\n",
    "\t\t\t\tprint(n[i],end=\"\")\n",
    "\t\t\telse:\n",
    "\t\t\t\tprint(n[i]+str(flag),end=\"\")"
   ]
  },
  {
   "cell_type": "code",
   "execution_count": 1,
   "id": "db7ac72c",
   "metadata": {},
   "outputs": [
    {
     "name": "stdout",
     "output_type": "stream",
     "text": [
      "cat\n",
      "caattt"
     ]
    }
   ],
   "source": [
    "a=input()\n",
    "for i in range(len(a)):\n",
    "    print(a[i]*(i+1),end=\"\")"
   ]
  },
  {
   "cell_type": "code",
   "execution_count": 2,
   "id": "bf6e2d3c",
   "metadata": {},
   "outputs": [
    {
     "name": "stdout",
     "output_type": "stream",
     "text": [
      "1 2 3 4 5 6 7 8 9 0\n",
      "<generator object <genexpr> at 0x000002D1DD279DD0>\n",
      "<class 'generator'>\n"
     ]
    }
   ],
   "source": [
    "x=(x for x in input().split())\n",
    "print(x)\n",
    "print(type(x))"
   ]
  },
  {
   "cell_type": "code",
   "execution_count": 1,
   "id": "1965d12d",
   "metadata": {},
   "outputs": [
    {
     "name": "stdout",
     "output_type": "stream",
     "text": [
      "Row:3\n",
      "Column:4\n",
      "[[0, 0, 0, 0], [0, 1, 2, 3], [0, 2, 4, 6]]\n"
     ]
    }
   ],
   "source": [
    "m=int(input(\"Row:\"))\n",
    "n=int(input(\"Column:\"))\n",
    "matrix=[[0 for col in range(n)] for row in range(m)]\n",
    "for row in range(m):\n",
    "    for col in range(n):\n",
    "        matrix[row][col]=row*col\n",
    "print(matrix)"
   ]
  },
  {
   "cell_type": "code",
   "execution_count": null,
   "id": "01d529a4",
   "metadata": {},
   "outputs": [],
   "source": [
    "1\n",
    "11\n",
    "21\n",
    "1211\n",
    "3112"
   ]
  },
  {
   "cell_type": "code",
   "execution_count": 1,
   "id": "fad58226",
   "metadata": {},
   "outputs": [
    {
     "name": "stdout",
     "output_type": "stream",
     "text": [
      "1 2 3 4 5 6 7 8 9 10\n",
      "[10, 9, 8, 7, 6, 5, 4, 3, 2, 1]\n"
     ]
    }
   ],
   "source": [
    "#reverse\n",
    "a=[int(x) for x in input().split()]\n",
    "b=a[::-1]\n",
    "print(b)"
   ]
  },
  {
   "cell_type": "code",
   "execution_count": 2,
   "id": "c04e7b10",
   "metadata": {},
   "outputs": [
    {
     "name": "stdout",
     "output_type": "stream",
     "text": [
      "1 2 3 4\n",
      "[1, 2, 6, 24]\n"
     ]
    }
   ],
   "source": [
    "#factorial \n",
    "a=[int(x) for x in input().split()]\n",
    "b=[]\n",
    "for i in a:\n",
    "    factorial=1\n",
    "    for j in range(2,i+1):\n",
    "        factorial=factorial*j\n",
    "    b.append(factorial)\n",
    "print(b)"
   ]
  },
  {
   "cell_type": "code",
   "execution_count": 4,
   "id": "b61aa0fc",
   "metadata": {},
   "outputs": [
    {
     "name": "stdout",
     "output_type": "stream",
     "text": [
      "1 2 3 4 5 6 7 8 9 10\n",
      "[1, 4, 9, 16, 25, 36, 49, 64, 81, 100]\n"
     ]
    }
   ],
   "source": [
    "#square \n",
    "a=[int(x) for x in input().split()]\n",
    "b=[]\n",
    "for i in a:\n",
    "    i=i**2\n",
    "    b.append(i)\n",
    "print(b)"
   ]
  },
  {
   "cell_type": "code",
   "execution_count": 5,
   "id": "a0658d3a",
   "metadata": {},
   "outputs": [
    {
     "name": "stdout",
     "output_type": "stream",
     "text": [
      "1 2 3 4\n",
      "5 6 7 8\n",
      "[1, 2, 3, 4, 5, 6, 7, 8]\n"
     ]
    }
   ],
   "source": [
    "a=[int(x) for x in input().split()]\n",
    "b=[int(y) for y in input().split()]\n",
    "a.extend(b)\n",
    "print(a)"
   ]
  },
  {
   "cell_type": "code",
   "execution_count": 7,
   "id": "f4c5d396",
   "metadata": {},
   "outputs": [
    {
     "name": "stdout",
     "output_type": "stream",
     "text": [
      "1 2 3 4\n",
      "5 6 7 8\n",
      "1    5\n",
      "2    6\n",
      "3    7\n",
      "4    8\n"
     ]
    }
   ],
   "source": [
    "a=[int(x) for x in input().split()]\n",
    "b=[int(y) for y in input().split()]\n",
    "for i in range(len(a)):\n",
    "    for j in range(len(b)):\n",
    "        if i==j:\n",
    "            print(a[i],\"  \",b[j])\n",
    "    "
   ]
  },
  {
   "cell_type": "code",
   "execution_count": 18,
   "id": "800798a2",
   "metadata": {},
   "outputs": [
    {
     "name": "stdout",
     "output_type": "stream",
     "text": [
      "[0, 1, 2]\n"
     ]
    }
   ],
   "source": [
    "x=[i**1 for i in range(3)];print(x)"
   ]
  },
  {
   "cell_type": "code",
   "execution_count": 25,
   "id": "2ca86810",
   "metadata": {},
   "outputs": [
    {
     "name": "stdout",
     "output_type": "stream",
     "text": [
      "<generator object <genexpr> at 0x000001F8BB42D580>\n"
     ]
    }
   ],
   "source": [
    "list=[(1,2,3),(4,5,6),(7,8,9)]\n",
    "print(i[::-1] for i in list)"
   ]
  },
  {
   "cell_type": "code",
   "execution_count": 5,
   "id": "0e3cf81d",
   "metadata": {},
   "outputs": [
    {
     "name": "stdout",
     "output_type": "stream",
     "text": [
      "hello\n",
      "my\n",
      "name\n",
      "is\n",
      "siddham\n",
      "jain\n"
     ]
    }
   ],
   "source": [
    "a='''hello\n",
    "my\n",
    "name\n",
    "is\n",
    "siddham\n",
    "jain'''\n",
    "print(a)"
   ]
  },
  {
   "cell_type": "code",
   "execution_count": 6,
   "id": "47431ac8",
   "metadata": {},
   "outputs": [
    {
     "data": {
      "text/plain": [
       "1712037370032"
      ]
     },
     "execution_count": 6,
     "metadata": {},
     "output_type": "execute_result"
    }
   ],
   "source": [
    "a=\"siddham\"\n",
    "id(a)"
   ]
  },
  {
   "cell_type": "code",
   "execution_count": 7,
   "id": "93d565b6",
   "metadata": {},
   "outputs": [
    {
     "data": {
      "text/plain": [
       "1712037370032"
      ]
     },
     "execution_count": 7,
     "metadata": {},
     "output_type": "execute_result"
    }
   ],
   "source": [
    "b=\"siddham\"\n",
    "id(b)"
   ]
  },
  {
   "cell_type": "code",
   "execution_count": 10,
   "id": "4aca8dd8",
   "metadata": {},
   "outputs": [
    {
     "data": {
      "text/plain": [
       "1712036581936"
      ]
     },
     "execution_count": 10,
     "metadata": {},
     "output_type": "execute_result"
    }
   ],
   "source": [
    "a=\"parikh\"\n",
    "id(a)"
   ]
  },
  {
   "cell_type": "code",
   "execution_count": 11,
   "id": "1972b91b",
   "metadata": {},
   "outputs": [
    {
     "data": {
      "text/plain": [
       "1712037355776"
      ]
     },
     "execution_count": 11,
     "metadata": {},
     "output_type": "execute_result"
    }
   ],
   "source": [
    "id(b)"
   ]
  },
  {
   "cell_type": "code",
   "execution_count": 15,
   "id": "9a3da067",
   "metadata": {},
   "outputs": [
    {
     "data": {
      "text/plain": [
       "1712065691520"
      ]
     },
     "execution_count": 15,
     "metadata": {},
     "output_type": "execute_result"
    }
   ],
   "source": [
    "a=[1,2,3,4,5]\n",
    "id(a)"
   ]
  },
  {
   "cell_type": "code",
   "execution_count": 5,
   "id": "3231708e",
   "metadata": {},
   "outputs": [
    {
     "name": "stdout",
     "output_type": "stream",
     "text": [
      "True\n",
      "65\n"
     ]
    }
   ],
   "source": [
    "a=\"siddham\"\n",
    "b=\"sid\"\n",
    "print(a>b)\n",
    "print(ord(\"A\"))"
   ]
  },
  {
   "cell_type": "code",
   "execution_count": 9,
   "id": "2673e42b",
   "metadata": {},
   "outputs": [
    {
     "data": {
      "text/plain": [
       "['hello', 'world', 'hello world hello world hello world']"
      ]
     },
     "execution_count": 9,
     "metadata": {},
     "output_type": "execute_result"
    }
   ],
   "source": [
    "a=\"hello world hello world hello world hello world\"\n",
    "li=a.split(\" \",2)\n",
    "li"
   ]
  },
  {
   "cell_type": "code",
   "execution_count": 14,
   "id": "b07e9723",
   "metadata": {},
   "outputs": [
    {
     "data": {
      "text/plain": [
       "'hello world hello world hello world hello world'"
      ]
     },
     "execution_count": 14,
     "metadata": {},
     "output_type": "execute_result"
    }
   ],
   "source": [
    "a.replace(\"hello\",\"hemlo\",0)"
   ]
  },
  {
   "cell_type": "code",
   "execution_count": 24,
   "id": "ddbdded0",
   "metadata": {},
   "outputs": [
    {
     "data": {
      "text/plain": [
       "-1"
      ]
     },
     "execution_count": 24,
     "metadata": {},
     "output_type": "execute_result"
    }
   ],
   "source": [
    "a=\"my name is siddham\"\n",
    "str=a.find(\"m\",7,8)\n",
    "str"
   ]
  },
  {
   "cell_type": "code",
   "execution_count": 41,
   "id": "933b5ec9",
   "metadata": {},
   "outputs": [
    {
     "data": {
      "text/plain": [
       "'ebcda'"
      ]
     },
     "execution_count": 41,
     "metadata": {},
     "output_type": "execute_result"
    }
   ],
   "source": [
    "a=\"abcda\"\n",
    "a=a.replace(\"a\",\"e\",1)\n",
    "a"
   ]
  },
  {
   "cell_type": "code",
   "execution_count": 66,
   "id": "6377b6af",
   "metadata": {},
   "outputs": [
    {
     "name": "stdout",
     "output_type": "stream",
     "text": [
      "10 21 5\n"
     ]
    }
   ],
   "source": [
    "#wap  to find the number of vowels consonants and digitts in the string.\n",
    "a=\"1234567890qwertyuiopasdfghjklzxcvbnm\"\n",
    "b=[\"A\",\"E\",\"I\",\"O\",\"U\",\"a\",\"i\",\"e\",\"o\",\"u\"]\n",
    "number=0\n",
    "alpha=0\n",
    "vowel=0\n",
    "for i in a:\n",
    "    if i in b:\n",
    "        vowel+=1\n",
    "    elif (i>=\"a\" and i<=\"z\") or (i>=\"A\" and i<=\"Z\"):\n",
    "        alpha+=1\n",
    "    else:\n",
    "        number+=1\n",
    "print(number,alpha,vowel)"
   ]
  },
  {
   "cell_type": "code",
   "execution_count": 23,
   "id": "3c4afbc7",
   "metadata": {},
   "outputs": [
    {
     "name": "stdout",
     "output_type": "stream",
     "text": [
      "1 \n",
      "2 4\n",
      "1 2 3 4\n",
      "5 6 7 8\n",
      "0\n",
      "1\n"
     ]
    }
   ],
   "source": [
    "n=int(input())\n",
    "for i in range(n):\n",
    "    a=[int(x) for x in input().split()]\n",
    "    o,p=a[0],a[1]\n",
    "    b=[[int(x) for x in input().split()]for i in range(o)]\n",
    "for i in range(len(b)):\n",
    "    sum=0\n",
    "    for j in range(len(b[i])):\n",
    "        if i==j:\n",
    "            sum=sum+j\n",
    "    print(sum)"
   ]
  },
  {
   "cell_type": "code",
   "execution_count": 25,
   "id": "a139b2eb",
   "metadata": {},
   "outputs": [
    {
     "ename": "TypeError",
     "evalue": "'tuple' object does not support item assignment",
     "output_type": "error",
     "traceback": [
      "\u001b[1;31m---------------------------------------------------------------------------\u001b[0m",
      "\u001b[1;31mTypeError\u001b[0m                                 Traceback (most recent call last)",
      "Input \u001b[1;32mIn [25]\u001b[0m, in \u001b[0;36m<cell line: 3>\u001b[1;34m()\u001b[0m\n\u001b[0;32m      1\u001b[0m a\u001b[38;5;241m=\u001b[39m([\u001b[38;5;241m1\u001b[39m,\u001b[38;5;241m2\u001b[39m],\u001b[38;5;241m3\u001b[39m,\u001b[38;5;241m4\u001b[39m,\u001b[38;5;241m5\u001b[39m,\u001b[38;5;241m6\u001b[39m,\u001b[38;5;241m7\u001b[39m,\u001b[38;5;241m8\u001b[39m)\n\u001b[0;32m      2\u001b[0m a[\u001b[38;5;241m0\u001b[39m][\u001b[38;5;241m1\u001b[39m]\u001b[38;5;241m=\u001b[39m\u001b[38;5;241m10\u001b[39m\n\u001b[1;32m----> 3\u001b[0m a[\u001b[38;5;241m3\u001b[39m]\u001b[38;5;241m=\u001b[39m\u001b[38;5;241m19\u001b[39m\n\u001b[0;32m      4\u001b[0m a\n",
      "\u001b[1;31mTypeError\u001b[0m: 'tuple' object does not support item assignment"
     ]
    }
   ],
   "source": [
    "a=([1,2],3,4,5,6,7,8)\n",
    "a[0][1]=10\n",
    "a[3]=19\n",
    "a"
   ]
  },
  {
   "cell_type": "code",
   "execution_count": 32,
   "id": "2e31dbd3",
   "metadata": {},
   "outputs": [
    {
     "name": "stdout",
     "output_type": "stream",
     "text": [
      "-5\n",
      "2\n"
     ]
    }
   ],
   "source": [
    "print(-18//4)\n",
    "print(-18%4)"
   ]
  },
  {
   "cell_type": "code",
   "execution_count": 42,
   "id": "f17a3e06",
   "metadata": {},
   "outputs": [
    {
     "name": "stdout",
     "output_type": "stream",
     "text": [
      "['welcome', 'to', 'chitkara']\n",
      "emoclew ot araktihc "
     ]
    }
   ],
   "source": [
    "a=\"welcome to chitkara\"\n",
    "b=a.split()\n",
    "print(b)\n",
    "for i in b:\n",
    "    for j in i:\n",
    "        print(i[::-1],end=\" \")\n",
    "        break"
   ]
  },
  {
   "cell_type": "code",
   "execution_count": 46,
   "id": "989ca154",
   "metadata": {},
   "outputs": [
    {
     "name": "stdout",
     "output_type": "stream",
     "text": [
      "10\n",
      "12 12 12 34 45 56 23 45 56 34\n",
      "34\n"
     ]
    }
   ],
   "source": [
    "n=int(input())\n",
    "a=[int(x) for x in input().split()]\n",
    "a=set(a)\n",
    "sum=0\n",
    "for i in a:\n",
    "    sum+=i\n",
    "print(sum//len(a))"
   ]
  },
  {
   "cell_type": "code",
   "execution_count": 66,
   "id": "3b2fa1ea",
   "metadata": {},
   "outputs": [
    {
     "name": "stdout",
     "output_type": "stream",
     "text": [
      "10\n",
      "11 23 12 12 14\n",
      "15\n"
     ]
    }
   ],
   "source": [
    "n = int(input())\n",
    "a = [int(x) for x in input().split()]\n",
    "s = set()\n",
    "for i in a:\n",
    "    s.add(i)\n",
    "sum=0\n",
    "for c in s:\n",
    "    sum=sum+c\n",
    "print(sum//len(s))"
   ]
  },
  {
   "cell_type": "code",
   "execution_count": 64,
   "id": "149417e7",
   "metadata": {},
   "outputs": [
    {
     "name": "stdout",
     "output_type": "stream",
     "text": [
      "{'asd'}\n"
     ]
    }
   ],
   "source": [
    "a=set()\n",
    "a.add(\"asd\")\n",
    "print(a)"
   ]
  },
  {
   "cell_type": "code",
   "execution_count": 69,
   "id": "7b22ac86",
   "metadata": {},
   "outputs": [
    {
     "name": "stdout",
     "output_type": "stream",
     "text": [
      "3\n"
     ]
    }
   ],
   "source": [
    "str=\"hello\"\n",
    "c=0\n",
    "for i in str:\n",
    "    if i!=\"l\":\n",
    "        c=c+1\n",
    "    else:\n",
    "        pass\n",
    "print(c)"
   ]
  },
  {
   "cell_type": "code",
   "execution_count": 78,
   "id": "69d7ee01",
   "metadata": {},
   "outputs": [
    {
     "name": "stdout",
     "output_type": "stream",
     "text": [
      "False True True True\n",
      "False True True True\n"
     ]
    }
   ],
   "source": [
    "print(bool(0),bool(3.14159),bool(-3),bool(1.0+1j))\n",
    "print(bool(0),bool(1),bool(2),bool(3))"
   ]
  },
  {
   "cell_type": "code",
   "execution_count": 81,
   "id": "64d2e74a",
   "metadata": {},
   "outputs": [
    {
     "name": "stdout",
     "output_type": "stream",
     "text": [
      "hello-python\n"
     ]
    }
   ],
   "source": [
    "m=[\"hello\",\"python\"]\n",
    "print(\"-\".join(m))"
   ]
  },
  {
   "cell_type": "code",
   "execution_count": 83,
   "id": "49e5be37",
   "metadata": {},
   "outputs": [
    {
     "name": "stdout",
     "output_type": "stream",
     "text": [
      "1 2 3 4 5 6 7 8 9 0\n",
      "1-2-3-4-5-6-7-8-9-0\n"
     ]
    }
   ],
   "source": [
    "a=[x for x in input().split()]\n",
    "print(\"-\".join(a))"
   ]
  },
  {
   "cell_type": "code",
   "execution_count": 89,
   "id": "c13f29f2",
   "metadata": {},
   "outputs": [
    {
     "name": "stdout",
     "output_type": "stream",
     "text": [
      "10\n",
      "[None, None, None, None, None, None, None, None, None, None]\n"
     ]
    }
   ],
   "source": [
    "l=[None]*10\n",
    "print(len(l))\n",
    "print(l)"
   ]
  },
  {
   "cell_type": "code",
   "execution_count": 90,
   "id": "32968144",
   "metadata": {},
   "outputs": [
    {
     "name": "stdout",
     "output_type": "stream",
     "text": [
      "(1, 2, 3, 1, 2, 3, 1, 2, 3, 1, 2, 3)\n"
     ]
    }
   ],
   "source": [
    "a=(1,2,3)*4\n",
    "print(a)"
   ]
  },
  {
   "cell_type": "code",
   "execution_count": 109,
   "id": "28ffca62",
   "metadata": {},
   "outputs": [
    {
     "name": "stdout",
     "output_type": "stream",
     "text": [
      "55\n"
     ]
    }
   ],
   "source": [
    "def sum(a,b,*more):\n",
    "    sum=0\n",
    "    sum=a+b\n",
    "    for i in more:\n",
    "        sum=sum+i\n",
    "    print(sum)\n",
    "sum(1,2,3,4,5,6,7,8,9,10)"
   ]
  },
  {
   "cell_type": "code",
   "execution_count": 125,
   "id": "bb4dc0f4",
   "metadata": {},
   "outputs": [
    {
     "name": "stdout",
     "output_type": "stream",
     "text": [
      "True\n"
     ]
    }
   ],
   "source": [
    "t=(1,2,3,4)\n",
    "a=(1,2,3,4)\n",
    "c=t==a\n",
    "print(c)"
   ]
  },
  {
   "cell_type": "code",
   "execution_count": 126,
   "id": "088ff321",
   "metadata": {},
   "outputs": [
    {
     "name": "stdout",
     "output_type": "stream",
     "text": [
      "['hello', 'world']\n"
     ]
    }
   ],
   "source": [
    "a=\"hello world\"\n",
    "b=a.split()\n",
    "print(b)"
   ]
  },
  {
   "cell_type": "code",
   "execution_count": 2,
   "id": "17c64591",
   "metadata": {},
   "outputs": [
    {
     "name": "stdout",
     "output_type": "stream",
     "text": [
      "python is great and java is also great\n",
      "python is great and java also "
     ]
    }
   ],
   "source": [
    "a=input().split()\n",
    "b=[]\n",
    "for i in a:\n",
    "    if i not in b:\n",
    "        b.append(i)\n",
    "for i in b:\n",
    "    print(i,end=\" \")"
   ]
  },
  {
   "cell_type": "code",
   "execution_count": 8,
   "id": "0fd79ff1",
   "metadata": {},
   "outputs": [
    {
     "name": "stdout",
     "output_type": "stream",
     "text": [
      "1 1 1 1 2 2 2 3 3 4\n",
      "3\n",
      "4\n",
      "1\n",
      "2\n"
     ]
    }
   ],
   "source": [
    "a=[x for x in input().split()]\n",
    "z=set(a)\n",
    "z.sort()\n",
    "z=tuple(a)\n",
    "for i in z:\n",
    "    b=a.count(i)\n",
    "    print(b)"
   ]
  },
  {
   "cell_type": "code",
   "execution_count": null,
   "id": "3de5b8f6",
   "metadata": {},
   "outputs": [],
   "source": []
  },
  {
   "cell_type": "code",
   "execution_count": null,
   "id": "ea2150fa",
   "metadata": {},
   "outputs": [],
   "source": []
  },
  {
   "cell_type": "code",
   "execution_count": null,
   "id": "c18c9f31",
   "metadata": {},
   "outputs": [],
   "source": []
  }
 ],
 "metadata": {
  "kernelspec": {
   "display_name": "Python 3 (ipykernel)",
   "language": "python",
   "name": "python3"
  },
  "language_info": {
   "codemirror_mode": {
    "name": "ipython",
    "version": 3
   },
   "file_extension": ".py",
   "mimetype": "text/x-python",
   "name": "python",
   "nbconvert_exporter": "python",
   "pygments_lexer": "ipython3",
   "version": "3.9.12"
  }
 },
 "nbformat": 4,
 "nbformat_minor": 5
}
