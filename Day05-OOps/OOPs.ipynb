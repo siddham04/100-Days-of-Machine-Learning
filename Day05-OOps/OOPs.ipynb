{
 "cells": [
  {
   "cell_type": "code",
   "execution_count": 2,
   "id": "42f7391d",
   "metadata": {},
   "outputs": [
    {
     "name": "stdout",
     "output_type": "stream",
     "text": [
      "Hello, how would you like to proceed?\n",
      "Enter 1 to create pin\n",
      "Enter 2 to deposit\n",
      "Enter 3 to withdraw\n",
      "Enter 4 to check balance\n",
      "Enter 5 to exit\n",
      "1\n",
      "Enter you pin:1234\n",
      "pin set successfully\n",
      "Hello, how would you like to proceed?\n",
      "Enter 1 to create pin\n",
      "Enter 2 to deposit\n",
      "Enter 3 to withdraw\n",
      "Enter 4 to check balance\n",
      "Enter 5 to exit\n",
      "2\n",
      "Enter your pin:1234\n",
      "Enter your amount:500\n",
      "operation successfull\n",
      "Hello, how would you like to proceed?\n",
      "Enter 1 to create pin\n",
      "Enter 2 to deposit\n",
      "Enter 3 to withdraw\n",
      "Enter 4 to check balance\n",
      "Enter 5 to exit\n",
      "4\n",
      "Enter your pin:1234\n",
      "500\n",
      "Hello, how would you like to proceed?\n",
      "Enter 1 to create pin\n",
      "Enter 2 to deposit\n",
      "Enter 3 to withdraw\n",
      "Enter 4 to check balance\n",
      "Enter 5 to exit\n",
      "3\n",
      "Enter your pin:1234\n",
      "Enter your amount:200\n",
      "operation successfull\n",
      "Hello, how would you like to proceed?\n",
      "Enter 1 to create pin\n",
      "Enter 2 to deposit\n",
      "Enter 3 to withdraw\n",
      "Enter 4 to check balance\n",
      "Enter 5 to exit\n",
      "3\n",
      "Enter your pin:1234\n",
      "Enter your amount:1\n",
      "operation successfull\n",
      "Hello, how would you like to proceed?\n",
      "Enter 1 to create pin\n",
      "Enter 2 to deposit\n",
      "Enter 3 to withdraw\n",
      "Enter 4 to check balance\n",
      "Enter 5 to exit\n",
      "4\n",
      "Enter your pin:1234\n",
      "299\n",
      "Hello, how would you like to proceed?\n",
      "Enter 1 to create pin\n",
      "Enter 2 to deposit\n",
      "Enter 3 to withdraw\n",
      "Enter 4 to check balance\n",
      "Enter 5 to exit\n",
      "5\n",
      "bye\n"
     ]
    }
   ],
   "source": [
    "class ATM:\n",
    "    def __init__(self):\n",
    "#instance variables -- because the value of these are different in every object \n",
    "        self.__pin=\"\" # __ it is added before  the name to make that name private so tbha we cant access it outside the class \n",
    "        self.__balance=0\n",
    "        self.__menu()\n",
    "        \n",
    "    def get_pin(self):\n",
    "        return self.__pin\n",
    "    \n",
    "    def get_balance(self):\n",
    "        return self.__balance\n",
    "    def set_pin(self,new_pin):\n",
    "        if (type(new_pin)==str):\n",
    "            self.__pin=new_pin\n",
    "            print(\"pin changed successfully\")\n",
    "        else:\n",
    "            print(\"pin not changed\")\n",
    "    def __menu(self):\n",
    "        while (True):\n",
    "            user_input=input(\"Hello, how would you like to proceed?\\nEnter 1 to create pin\\nEnter 2 to deposit\\nEnter 3 to withdraw\\nEnter 4 to check balance\\nEnter 5 to exit\\n\")\n",
    "            if (user_input=='1'):\n",
    "                self.create_pin()\n",
    "            elif (user_input=='2'):\n",
    "                self.deposit()\n",
    "            elif (user_input=='3'):\n",
    "                self.withdraw()\n",
    "            elif (user_input=='4'):\n",
    "                self.check_balance()\n",
    "            else:\n",
    "                print(\"bye\")\n",
    "                break;\n",
    "    def create_pin(self):\n",
    "        self.__pin=input(\"Enter you pin:\")\n",
    "        print(\"pin set successfully\")\n",
    "        \n",
    "    def set_balance(self,new_balance):\n",
    "        if (new_balance==int):\n",
    "            self.__balance=new_balance\n",
    "            print(\"balance changed sucessfuly\")\n",
    "        \n",
    "    def deposit(self):\n",
    "        input_pin=input(\"Enter your pin:\")\n",
    "        if (input_pin==self.__pin):\n",
    "            amount=int(input(\"Enter your amount:\" ))\n",
    "            self.__balance+=amount\n",
    "            print(\"operation successfull\")\n",
    "        else:\n",
    "            print(\"invalid pin\")\n",
    "                \n",
    "    def withdraw(self):\n",
    "        input_pin=input(\"Enter your pin:\")\n",
    "        if (input_pin==self.__pin):\n",
    "            amount=int(input(\"Enter your amount:\" ))\n",
    "            if (amount<=self.__balance):\n",
    "                self.__balance-=amount\n",
    "                print(\"operation successfull\")\n",
    "            else:\n",
    "                print(\"insufficient funds\")\n",
    "        else:\n",
    "            print(\"invalid pin\")\n",
    "                \n",
    "    def check_balance(self):\n",
    "        input_pin=input(\"Enter your pin:\" )\n",
    "        if (input_pin==self.__pin):\n",
    "            print(self.__balance)\n",
    "        else:\n",
    "            print(\"invalid pin\")    \n",
    "a=ATM()"
   ]
  },
  {
   "cell_type": "code",
   "execution_count": 39,
   "id": "f22bc4f6",
   "metadata": {},
   "outputs": [
    {
     "name": "stdout",
     "output_type": "stream",
     "text": [
      "pin changed successfully\n",
      "pin changed successfully\n"
     ]
    },
    {
     "data": {
      "text/plain": [
       "'1234'"
      ]
     },
     "execution_count": 39,
     "metadata": {},
     "output_type": "execute_result"
    }
   ],
   "source": [
    "a.get_pin()\n",
    "a.set_pin(\"123\")\n",
    "a.set_pin('1234') \n",
    "\n",
    "\n",
    "a.get_pin()"
   ]
  },
  {
   "cell_type": "code",
   "execution_count": 9,
   "id": "af534d82",
   "metadata": {},
   "outputs": [],
   "source": [
    "#  the way to access the private members of that very class\n",
    "a._ATM__balance=\"hello world\" # to access the"
   ]
  },
  {
   "cell_type": "code",
   "execution_count": 10,
   "id": "ccf7874c",
   "metadata": {},
   "outputs": [
    {
     "data": {
      "text/plain": [
       "'hello world'"
      ]
     },
     "execution_count": 10,
     "metadata": {},
     "output_type": "execute_result"
    }
   ],
   "source": [
    "a._ATM__balance"
   ]
  },
  {
   "cell_type": "code",
   "execution_count": 3,
   "id": "8bb431b0",
   "metadata": {},
   "outputs": [
    {
     "name": "stdout",
     "output_type": "stream",
     "text": [
      "18/20\n"
     ]
    }
   ],
   "source": [
    "class Fraction:\n",
    "    def __init__(self,n,d):\n",
    "        self.num=n\n",
    "        self.den=d\n",
    "    def __str__(self):\n",
    "        return \"{}/{}\".format(self.num,self.den)\n",
    "    def __add__(self,other):\n",
    "        numerator=self.num*other.den+other.num*self.den\n",
    "        denomenator=self.den*other.den\n",
    "        return \"{}/{}\".format(numerator,denomenator)\n",
    "    def __sub__(self,other):\n",
    "        numerator=self.num*other.den-other.num*self.den\n",
    "        denomenator=self.den*other.den\n",
    "        return \"{}/{}\".format(numerator,denomenator)\n",
    "    def __mul__(self,other):\n",
    "        numerator=self.num*other.num\n",
    "        denomenator=self.den*other.den\n",
    "        return \"{}/{}\".format(numerator,denomenator)\n",
    "    def __truediv__(self,other):\n",
    "        numerator=self.num*other.den\n",
    "        denomenator=self.den*other.num\n",
    "        return \"{}/{}\".format(numerator,denomenator)\n",
    "a=Fraction(3,4)\n",
    "b=Fraction(5,6)\n",
    "print(a/b)"
   ]
  },
  {
   "cell_type": "code",
   "execution_count": 10,
   "id": "67ff7c2f",
   "metadata": {},
   "outputs": [
    {
     "name": "stdout",
     "output_type": "stream",
     "text": [
      "4\n",
      "5\n"
     ]
    }
   ],
   "source": [
    "class customer:\n",
    "    counter=1  #class or static variable\n",
    "    def __init__(self,name):\n",
    "        self.name=name\n",
    "        self.sno=customer.counter\n",
    "        customer.counter+=1\n",
    "    @staticmethod\n",
    "    def get_counter():\n",
    "        return customer.counter\n",
    "def greet(customer):\n",
    "    customer.name=\"Siddham\"\n",
    "#     print(\"Hello\",customer.name)\n",
    "cust1=customer('Sid')\n",
    "cust2=customer('Sidd')\n",
    "cust3=customer('Sdd')\n",
    "cust4=customer('Sid')\n",
    "print(cust4.sno)\n",
    "print(customer.counter)  #ye identity to class ki hai instance ke andar value store krane ke liye uski identity ka variable banake store kana pdega na\n",
    "# greet(cust)\n",
    "# print(\"Hello\",cust.name)\n",
    "\n",
    "# therefore , we can say that like lists and dictionaries .. classes are also mutable \n",
    "# agar hum class main mutable datatypes bhejenge to he class mian changes show honge otherwise nahi honge \n"
   ]
  },
  {
   "cell_type": "code",
   "execution_count": null,
   "id": "cce5e239",
   "metadata": {},
   "outputs": [],
   "source": [
    "# making a function where we have to return a static variable there we need not put self as the parameter as rather returning the \n",
    "#  object we return the class name. So, theres no need for the self."
   ]
  },
  {
   "cell_type": "code",
   "execution_count": null,
   "id": "1dde8e65",
   "metadata": {},
   "outputs": [],
   "source": []
  },
  {
   "cell_type": "markdown",
   "id": "40d7e736",
   "metadata": {},
   "source": [
    "# Aggregation"
   ]
  },
  {
   "cell_type": "markdown",
   "id": "75009480",
   "metadata": {},
   "source": [
    "## has a relationship "
   ]
  },
  {
   "cell_type": "code",
   "execution_count": 11,
   "id": "4eebf1d6",
   "metadata": {},
   "outputs": [
    {
     "name": "stdout",
     "output_type": "stream",
     "text": [
      "Jammu\n",
      "Punjab\n"
     ]
    }
   ],
   "source": [
    "class Customer:\n",
    "    def __init__(self,name,gender,address):\n",
    "        self.name=name\n",
    "        self.gender=gender\n",
    "        self.address=address\n",
    "        \n",
    "    def edit_profile(self,new_name,new_city,new_pin,new_state):\n",
    "        self.name=new_name\n",
    "        self.address.change_address(new_city,new_pin,new_state)\n",
    "        \n",
    "class Address:\n",
    "    def __init__(self,city,pincode,state):\n",
    "        self.city=city\n",
    "        self.pincode=pincode\n",
    "        self.state=state\n",
    "    \n",
    "    def change_address(self,new_city,new_pincode,new_state):\n",
    "        self.city=new_city\n",
    "        self.pincode=new_pincode\n",
    "        self.state=new_state\n",
    "        \n",
    "add=Address('Jammu',180001,'JK')\n",
    "cust=Customer('Siddham','Male',add)\n",
    "print(cust.address.city)\n",
    "cust.edit_profile('Sid','Punjab',100001,\"pb\")\n",
    "print(cust.address.city)"
   ]
  },
  {
   "cell_type": "code",
   "execution_count": null,
   "id": "7c63959b",
   "metadata": {},
   "outputs": [],
   "source": []
  },
  {
   "cell_type": "markdown",
   "id": "011e0727",
   "metadata": {},
   "source": [
    "# Inheritance"
   ]
  },
  {
   "cell_type": "markdown",
   "id": "ae319984",
   "metadata": {},
   "source": [
    "## helps in the code reusability and it helps us in saving out time "
   ]
  },
  {
   "cell_type": "markdown",
   "id": "75cde0a2",
   "metadata": {},
   "source": [
    "#### in flowchart , inheritance hmesha uper ki taraph arrow krta hai "
   ]
  },
  {
   "cell_type": "code",
   "execution_count": 15,
   "id": "aa38bcc4",
   "metadata": {},
   "outputs": [
    {
     "name": "stdout",
     "output_type": "stream",
     "text": [
      "enrolled\n",
      "Login\n"
     ]
    }
   ],
   "source": [
    "class User:\n",
    "    def login(self):\n",
    "        print(\"Login\")\n",
    "    def register(self):\n",
    "        print(\"register\")\n",
    "\n",
    "class Student(User):\n",
    "    def enroll(self):\n",
    "        print('enrolled')\n",
    "    def review(Self):\n",
    "        print('reviewed')\n",
    "        \n",
    "stu=Student()\n",
    "stu.enroll()\n",
    "stu.login()"
   ]
  },
  {
   "cell_type": "code",
   "execution_count": null,
   "id": "a72d9e47",
   "metadata": {},
   "outputs": [],
   "source": []
  },
  {
   "cell_type": "markdown",
   "id": "85e38f27",
   "metadata": {},
   "source": [
    "# Super Function "
   ]
  },
  {
   "cell_type": "code",
   "execution_count": 16,
   "id": "c7661dca",
   "metadata": {},
   "outputs": [
    {
     "name": "stdout",
     "output_type": "stream",
     "text": [
      "Inside Smartphone Constructor\n",
      "Android\n"
     ]
    }
   ],
   "source": [
    "class Phone:\n",
    "    def __init__(self,price,brand,camera):\n",
    "        self.price=price\n",
    "        self.brand=brand\n",
    "        self.camera=camera\n",
    "\n",
    "class Smartphone(Phone):\n",
    "    def __init__(self,price,brand,camera,os,ram):\n",
    "        super().__init__(price,brand,camera)\n",
    "        self.os=os\n",
    "        self.ram=ram\n",
    "        print(\"Inside Smartphone Constructor\")\n",
    "\n",
    "s=Smartphone(20000,\"Samsung\",12,\"Android\",2)\n",
    "print(s.os)"
   ]
  },
  {
   "cell_type": "code",
   "execution_count": null,
   "id": "699dcade",
   "metadata": {},
   "outputs": [],
   "source": []
  },
  {
   "cell_type": "markdown",
   "id": "ef2aec83",
   "metadata": {},
   "source": [
    "# Method Resolution Order"
   ]
  },
  {
   "cell_type": "markdown",
   "id": "84455414",
   "metadata": {},
   "source": [
    "### it is just like the diamond problme handling solution but in this the one whose inherited first would be given more preferance"
   ]
  },
  {
   "cell_type": "code",
   "execution_count": null,
   "id": "dbfc2f91",
   "metadata": {},
   "outputs": [],
   "source": []
  },
  {
   "cell_type": "markdown",
   "id": "b8800ee3",
   "metadata": {},
   "source": [
    "## Python ke andar method overloading kaam nahi krti haia "
   ]
  },
  {
   "cell_type": "code",
   "execution_count": 17,
   "id": "7a5045c8",
   "metadata": {},
   "outputs": [
    {
     "ename": "TypeError",
     "evalue": "Geometry.area() missing 1 required positional argument: 'b'",
     "output_type": "error",
     "traceback": [
      "\u001b[1;31m---------------------------------------------------------------------------\u001b[0m",
      "\u001b[1;31mTypeError\u001b[0m                                 Traceback (most recent call last)",
      "Cell \u001b[1;32mIn[17], line 8\u001b[0m\n\u001b[0;32m      6\u001b[0m         \u001b[38;5;28;01mreturn\u001b[39;00m l\u001b[38;5;241m*\u001b[39mb\n\u001b[0;32m      7\u001b[0m obj\u001b[38;5;241m=\u001b[39mGeometry()\n\u001b[1;32m----> 8\u001b[0m \u001b[38;5;28mprint\u001b[39m(obj\u001b[38;5;241m.\u001b[39marea(\u001b[38;5;241m4\u001b[39m))\n",
      "\u001b[1;31mTypeError\u001b[0m: Geometry.area() missing 1 required positional argument: 'b'"
     ]
    }
   ],
   "source": [
    "class Geometry:\n",
    "    def area(self,radius):\n",
    "        return 3.14*radius*radius\n",
    "    \n",
    "    def area(self,l,b):\n",
    "        return l*b\n",
    "obj=Geometry()\n",
    "print(obj.area(4))"
   ]
  },
  {
   "cell_type": "code",
   "execution_count": null,
   "id": "4b6f8bf0",
   "metadata": {},
   "outputs": [],
   "source": []
  },
  {
   "cell_type": "code",
   "execution_count": null,
   "id": "53a2094e",
   "metadata": {},
   "outputs": [],
   "source": []
  },
  {
   "cell_type": "code",
   "execution_count": null,
   "id": "6ebbcf0d",
   "metadata": {},
   "outputs": [],
   "source": []
  },
  {
   "cell_type": "code",
   "execution_count": null,
   "id": "df1b52c3",
   "metadata": {},
   "outputs": [],
   "source": []
  },
  {
   "cell_type": "code",
   "execution_count": null,
   "id": "69be5d54",
   "metadata": {},
   "outputs": [],
   "source": []
  },
  {
   "cell_type": "code",
   "execution_count": null,
   "id": "2f0bdfe4",
   "metadata": {},
   "outputs": [],
   "source": []
  },
  {
   "cell_type": "code",
   "execution_count": null,
   "id": "c05439e5",
   "metadata": {},
   "outputs": [],
   "source": []
  },
  {
   "cell_type": "code",
   "execution_count": null,
   "id": "de0747cf",
   "metadata": {},
   "outputs": [],
   "source": []
  },
  {
   "cell_type": "code",
   "execution_count": null,
   "id": "b578a8fb",
   "metadata": {},
   "outputs": [],
   "source": []
  },
  {
   "cell_type": "code",
   "execution_count": null,
   "id": "9be77032",
   "metadata": {},
   "outputs": [],
   "source": []
  },
  {
   "cell_type": "code",
   "execution_count": null,
   "id": "b9518e7d",
   "metadata": {},
   "outputs": [],
   "source": []
  },
  {
   "cell_type": "code",
   "execution_count": null,
   "id": "bb324e29",
   "metadata": {},
   "outputs": [],
   "source": []
  },
  {
   "cell_type": "code",
   "execution_count": null,
   "id": "836a99da",
   "metadata": {},
   "outputs": [],
   "source": []
  },
  {
   "cell_type": "code",
   "execution_count": null,
   "id": "7c9d5fb0",
   "metadata": {},
   "outputs": [],
   "source": []
  },
  {
   "cell_type": "code",
   "execution_count": null,
   "id": "45767d83",
   "metadata": {},
   "outputs": [],
   "source": []
  },
  {
   "cell_type": "code",
   "execution_count": null,
   "id": "4496a519",
   "metadata": {},
   "outputs": [],
   "source": []
  },
  {
   "cell_type": "code",
   "execution_count": null,
   "id": "68f75d04",
   "metadata": {},
   "outputs": [],
   "source": []
  },
  {
   "cell_type": "code",
   "execution_count": null,
   "id": "547a3bd1",
   "metadata": {},
   "outputs": [],
   "source": []
  },
  {
   "cell_type": "code",
   "execution_count": null,
   "id": "d57b9ba9",
   "metadata": {},
   "outputs": [],
   "source": []
  },
  {
   "cell_type": "code",
   "execution_count": null,
   "id": "d0310318",
   "metadata": {},
   "outputs": [],
   "source": []
  },
  {
   "cell_type": "code",
   "execution_count": null,
   "id": "fa4b0a0f",
   "metadata": {},
   "outputs": [],
   "source": []
  },
  {
   "cell_type": "code",
   "execution_count": null,
   "id": "8e184ffc",
   "metadata": {},
   "outputs": [],
   "source": []
  },
  {
   "cell_type": "code",
   "execution_count": null,
   "id": "3b0414d0",
   "metadata": {},
   "outputs": [],
   "source": []
  },
  {
   "cell_type": "code",
   "execution_count": null,
   "id": "d1d5c226",
   "metadata": {},
   "outputs": [],
   "source": []
  },
  {
   "cell_type": "code",
   "execution_count": null,
   "id": "c0428c15",
   "metadata": {},
   "outputs": [],
   "source": []
  },
  {
   "cell_type": "code",
   "execution_count": null,
   "id": "0683dcf0",
   "metadata": {},
   "outputs": [],
   "source": []
  },
  {
   "cell_type": "code",
   "execution_count": null,
   "id": "d42e802a",
   "metadata": {},
   "outputs": [],
   "source": []
  },
  {
   "cell_type": "code",
   "execution_count": null,
   "id": "b9357e16",
   "metadata": {},
   "outputs": [],
   "source": []
  },
  {
   "cell_type": "code",
   "execution_count": null,
   "id": "d795ace0",
   "metadata": {},
   "outputs": [],
   "source": []
  },
  {
   "cell_type": "code",
   "execution_count": null,
   "id": "a4c0b2c2",
   "metadata": {},
   "outputs": [],
   "source": []
  },
  {
   "cell_type": "code",
   "execution_count": null,
   "id": "74ad301a",
   "metadata": {},
   "outputs": [],
   "source": []
  },
  {
   "cell_type": "code",
   "execution_count": null,
   "id": "9888f5b8",
   "metadata": {},
   "outputs": [],
   "source": []
  },
  {
   "cell_type": "code",
   "execution_count": null,
   "id": "1788b2e7",
   "metadata": {},
   "outputs": [],
   "source": []
  },
  {
   "cell_type": "code",
   "execution_count": null,
   "id": "1226baa3",
   "metadata": {},
   "outputs": [],
   "source": []
  },
  {
   "cell_type": "code",
   "execution_count": null,
   "id": "ca9d0bd1",
   "metadata": {},
   "outputs": [],
   "source": []
  },
  {
   "cell_type": "code",
   "execution_count": null,
   "id": "fa033287",
   "metadata": {},
   "outputs": [],
   "source": []
  },
  {
   "cell_type": "code",
   "execution_count": null,
   "id": "c95c09dd",
   "metadata": {},
   "outputs": [],
   "source": []
  },
  {
   "cell_type": "code",
   "execution_count": null,
   "id": "8c00fd5e",
   "metadata": {},
   "outputs": [],
   "source": []
  },
  {
   "cell_type": "code",
   "execution_count": null,
   "id": "5448c2b7",
   "metadata": {},
   "outputs": [],
   "source": []
  },
  {
   "cell_type": "code",
   "execution_count": null,
   "id": "6d53e965",
   "metadata": {},
   "outputs": [],
   "source": []
  },
  {
   "cell_type": "code",
   "execution_count": null,
   "id": "587a5f02",
   "metadata": {},
   "outputs": [],
   "source": []
  },
  {
   "cell_type": "code",
   "execution_count": null,
   "id": "45bc58d5",
   "metadata": {},
   "outputs": [],
   "source": []
  },
  {
   "cell_type": "code",
   "execution_count": null,
   "id": "66737175",
   "metadata": {},
   "outputs": [],
   "source": []
  },
  {
   "cell_type": "code",
   "execution_count": null,
   "id": "d15e33cb",
   "metadata": {},
   "outputs": [],
   "source": []
  },
  {
   "cell_type": "code",
   "execution_count": null,
   "id": "f314262f",
   "metadata": {},
   "outputs": [],
   "source": []
  },
  {
   "cell_type": "code",
   "execution_count": null,
   "id": "79524bcc",
   "metadata": {},
   "outputs": [],
   "source": []
  },
  {
   "cell_type": "code",
   "execution_count": null,
   "id": "edc6fa74",
   "metadata": {},
   "outputs": [],
   "source": []
  },
  {
   "cell_type": "code",
   "execution_count": null,
   "id": "9125c206",
   "metadata": {},
   "outputs": [],
   "source": []
  },
  {
   "cell_type": "code",
   "execution_count": null,
   "id": "ff7deba3",
   "metadata": {},
   "outputs": [],
   "source": []
  },
  {
   "cell_type": "code",
   "execution_count": null,
   "id": "927b97e6",
   "metadata": {},
   "outputs": [],
   "source": []
  },
  {
   "cell_type": "code",
   "execution_count": null,
   "id": "5090012d",
   "metadata": {},
   "outputs": [],
   "source": []
  },
  {
   "cell_type": "code",
   "execution_count": null,
   "id": "85a3da20",
   "metadata": {},
   "outputs": [],
   "source": []
  },
  {
   "cell_type": "code",
   "execution_count": null,
   "id": "61d17357",
   "metadata": {},
   "outputs": [],
   "source": []
  },
  {
   "cell_type": "code",
   "execution_count": null,
   "id": "d2e4bc22",
   "metadata": {},
   "outputs": [],
   "source": []
  },
  {
   "cell_type": "code",
   "execution_count": null,
   "id": "cc08f4f8",
   "metadata": {},
   "outputs": [],
   "source": []
  },
  {
   "cell_type": "code",
   "execution_count": null,
   "id": "2fcd1577",
   "metadata": {},
   "outputs": [],
   "source": []
  },
  {
   "cell_type": "code",
   "execution_count": null,
   "id": "d5cb9fd6",
   "metadata": {},
   "outputs": [],
   "source": []
  },
  {
   "cell_type": "code",
   "execution_count": null,
   "id": "0be45fe0",
   "metadata": {},
   "outputs": [],
   "source": []
  }
 ],
 "metadata": {
  "kernelspec": {
   "display_name": "Python 3 (ipykernel)",
   "language": "python",
   "name": "python3"
  },
  "language_info": {
   "codemirror_mode": {
    "name": "ipython",
    "version": 3
   },
   "file_extension": ".py",
   "mimetype": "text/x-python",
   "name": "python",
   "nbconvert_exporter": "python",
   "pygments_lexer": "ipython3",
   "version": "3.11.4"
  }
 },
 "nbformat": 4,
 "nbformat_minor": 5
}
